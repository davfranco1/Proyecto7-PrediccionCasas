{
 "cells": [
  {
   "cell_type": "markdown",
   "metadata": {},
   "source": [
    "# Notebook #6: Predicciones"
   ]
  },
  {
   "cell_type": "code",
   "execution_count": 61,
   "metadata": {},
   "outputs": [],
   "source": [
    "import pandas as pd\n",
    "import pickle\n",
    "import numpy as np"
   ]
  },
  {
   "cell_type": "code",
   "execution_count": 62,
   "metadata": {},
   "outputs": [],
   "source": [
    "# cargamos los transformadores y el modelo entrenado\n",
    "with open('../../modelos/onehot_encoder.pkl', 'rb') as f:\n",
    "    onehot_encoder = pickle.load(f)\n",
    "\n",
    "with open('../../modelos/target_encoder.pkl', 'rb') as f:\n",
    "    target_encoder = pickle.load(f)\n",
    "\n",
    "with open('../../modelos/standard_scaler.pkl', 'rb') as f:\n",
    "    scaler = pickle.load(f)\n",
    "\n",
    "with open('../../modelos/rf_regressor.pkl', 'rb') as f:\n",
    "    model = pickle.load(f)"
   ]
  },
  {
   "cell_type": "code",
   "execution_count": 63,
   "metadata": {},
   "outputs": [],
   "source": [
    "#'price', 'propertyType', 'size', 'exterior', 'rooms', 'bathrooms',\n",
    "#       'municipality', 'distance', 'floor', 'hasLift'"
   ]
  },
  {
   "cell_type": "code",
   "execution_count": 64,
   "metadata": {},
   "outputs": [
    {
     "data": {
      "text/html": [
       "<div>\n",
       "<style scoped>\n",
       "    .dataframe tbody tr th:only-of-type {\n",
       "        vertical-align: middle;\n",
       "    }\n",
       "\n",
       "    .dataframe tbody tr th {\n",
       "        vertical-align: top;\n",
       "    }\n",
       "\n",
       "    .dataframe thead th {\n",
       "        text-align: right;\n",
       "    }\n",
       "</style>\n",
       "<table border=\"1\" class=\"dataframe\">\n",
       "  <thead>\n",
       "    <tr style=\"text-align: right;\">\n",
       "      <th></th>\n",
       "      <th>propertyType</th>\n",
       "      <th>size</th>\n",
       "      <th>exterior</th>\n",
       "      <th>rooms</th>\n",
       "      <th>bathrooms</th>\n",
       "      <th>municipality</th>\n",
       "      <th>distance</th>\n",
       "      <th>floor</th>\n",
       "      <th>hasLift</th>\n",
       "    </tr>\n",
       "  </thead>\n",
       "  <tbody>\n",
       "    <tr>\n",
       "      <th>0</th>\n",
       "      <td>Flat</td>\n",
       "      <td>60</td>\n",
       "      <td>True</td>\n",
       "      <td>2</td>\n",
       "      <td>1</td>\n",
       "      <td>Madrid</td>\n",
       "      <td>2000</td>\n",
       "      <td>2</td>\n",
       "      <td>True</td>\n",
       "    </tr>\n",
       "  </tbody>\n",
       "</table>\n",
       "</div>"
      ],
      "text/plain": [
       "  propertyType  size exterior  rooms  bathrooms municipality  distance  floor  \\\n",
       "0         Flat    60     True      2          1       Madrid      2000      2   \n",
       "\n",
       "  hasLift  \n",
       "0    True  "
      ]
     },
     "execution_count": 64,
     "metadata": {},
     "output_type": "execute_result"
    }
   ],
   "source": [
    "nueva_casa = pd.DataFrame({\n",
    "    'propertyType': [\"Flat\"], \n",
    "    'size': [60],\n",
    "    'exterior': [\"True\"],\n",
    "    'rooms': [2],\n",
    "    'bathrooms': [1],\n",
    "    'municipality':[\"Madrid\"],\n",
    "    'distance':[2000],\n",
    "    'floor':[2],\n",
    "    'hasLift':[\"True\"]\n",
    "})\n",
    "\n",
    "df_new = pd.DataFrame(nueva_casa)\n",
    "df_new"
   ]
  },
  {
   "cell_type": "code",
   "execution_count": 76,
   "metadata": {},
   "outputs": [
    {
     "data": {
      "text/plain": [
       "np.float64(716.8056014628107)"
      ]
     },
     "execution_count": 76,
     "metadata": {},
     "output_type": "execute_result"
    }
   ],
   "source": [
    "df_pred = df_new.copy()\n",
    "col_num=[\"size\", \"distance\"]\n",
    "df_pred[col_num] = scaler.transform(df_pred[col_num])\n",
    "df_pred['hasLift'] = df_pred['hasLift'].map({\n",
    "    \"True\": 1, \n",
    "    \"False\": 0, \n",
    "    'Sin información': -1\n",
    "})\n",
    "\n",
    "df_pred['exterior'] = df_pred['exterior'].map({\n",
    "    \"True\": 1, \n",
    "    \"False\": 0, \n",
    "    'Sin información': -1\n",
    "})\n",
    "\n",
    "df_pred['floor'] = df_pred['floor'].map({\n",
    "    'st': -2, \n",
    "    'ss': -1,\n",
    "    'bj': 0,\n",
    "    'en': 0.5, \n",
    "    'Sin información': -3\n",
    "}).fillna(df_pred['floor']) \n",
    "\n",
    "df_pred[\"municipality\"] = target_encoder.transform(df_pred[\"municipality\"])\n",
    "\n",
    "# Transformar columna\n",
    "encoded_array = onehot_encoder.transform(df_pred[[\"propertyType\"]])\n",
    "\n",
    "# Crear un DF con las nuevas columnas\n",
    "encoded_df = pd.DataFrame(\n",
    "    encoded_array,\n",
    "    columns=onehot_encoder.get_feature_names_out([\"propertyType\"]),\n",
    "    index=df_pred.index\n",
    ")\n",
    "\n",
    "# Concatenar con el DF original\n",
    "df_pred = pd.concat([df_pred.reset_index(drop=True), encoded_df.reset_index(drop=True)], axis=1)\n",
    "\n",
    "# Drop de la columna original que ya no necesitamos\n",
    "df_pred.drop(\"propertyType\", axis=1, inplace=True)\n",
    "\n",
    "df_pred.rename(columns= {\"size\":\"size_standard\", \"distance\":\"distance_standard\"}, inplace=True)\n",
    "\n",
    "df_pred = df_pred[['exterior', 'rooms', 'bathrooms', 'floor', 'hasLift',\n",
    "       'propertyType_chalet', 'propertyType_countryHouse',\n",
    "       'propertyType_duplex', 'propertyType_flat', 'propertyType_penthouse',\n",
    "       'propertyType_studio', 'municipality', 'size_standard',\n",
    "       'distance_standard']]\n",
    "\n",
    "model.predict(df_pred)[0]"
   ]
  }
 ],
 "metadata": {
  "kernelspec": {
   "display_name": "Python 3",
   "language": "python",
   "name": "python3"
  },
  "language_info": {
   "codemirror_mode": {
    "name": "ipython",
    "version": 3
   },
   "file_extension": ".py",
   "mimetype": "text/x-python",
   "name": "python",
   "nbconvert_exporter": "python",
   "pygments_lexer": "ipython3",
   "version": "3.9.6"
  }
 },
 "nbformat": 4,
 "nbformat_minor": 2
}
